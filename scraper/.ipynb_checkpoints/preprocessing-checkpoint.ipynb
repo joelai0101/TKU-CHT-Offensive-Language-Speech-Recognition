{
 "cells": [
  {
   "cell_type": "code",
   "execution_count": 23,
   "id": "5642a5c4",
   "metadata": {},
   "outputs": [],
   "source": [
    "import os\n",
    "before_dir_name = './before/'\n",
    "after_dir_name = './after/'\n",
    "\n",
    "before_file_names = os.listdir(before_dir_name)"
   ]
  },
  {
   "cell_type": "code",
   "execution_count": 24,
   "id": "ed61cf62",
   "metadata": {},
   "outputs": [],
   "source": [
    "import re\n",
    "\n",
    "for file_name in before_file_names:\n",
    "    before_file_path = os.path.join(before_dir_name, file_name)\n",
    "    after_file_path = os.path.join(after_dir_name, file_name)\n",
    "    new_lines = []\n",
    "    \n",
    "    # 打開文字檔\n",
    "    with open(before_file_path, 'r') as f:\n",
    "        lines = f.readlines()\n",
    "    \n",
    "    \n",
    "    \n",
    "    for line in lines:\n",
    "        # 類似網址文字去除\n",
    "        line = re.sub(r'http\\S+', '', line)\n",
    "        # 將純數字句子去除\n",
    "        line = re.sub(r'\\b\\d+\\b(?![\\u4e00-\\u9fa5])', '', line)\n",
    "        \n",
    "        # 跳過空行\n",
    "        if line.strip():\n",
    "            new_lines.append(line)\n",
    "    \n",
    "    with open(after_file_path, 'w') as f:\n",
    "        f.writelines(new_lines)\n",
    "        "
   ]
  },
  {
   "cell_type": "code",
   "execution_count": null,
   "id": "616b6e4b",
   "metadata": {},
   "outputs": [],
   "source": []
  }
 ],
 "metadata": {
  "kernelspec": {
   "display_name": "Python 3 (ipykernel)",
   "language": "python",
   "name": "python3"
  },
  "language_info": {
   "codemirror_mode": {
    "name": "ipython",
    "version": 3
   },
   "file_extension": ".py",
   "mimetype": "text/x-python",
   "name": "python",
   "nbconvert_exporter": "python",
   "pygments_lexer": "ipython3",
   "version": "3.9.10"
  }
 },
 "nbformat": 4,
 "nbformat_minor": 5
}
