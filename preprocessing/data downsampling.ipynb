{
 "cells": [
  {
   "cell_type": "code",
   "execution_count": 15,
   "id": "cd821e9a",
   "metadata": {},
   "outputs": [],
   "source": [
    "import numpy as np\n",
    "import pandas as pd"
   ]
  },
  {
   "cell_type": "code",
   "execution_count": 16,
   "id": "8bfb7643",
   "metadata": {},
   "outputs": [],
   "source": [
    "data_root = 'data.csv'"
   ]
  },
  {
   "cell_type": "code",
   "execution_count": 17,
   "id": "e4442c1e",
   "metadata": {},
   "outputs": [
    {
     "data": {
      "text/html": [
       "<div>\n",
       "<style scoped>\n",
       "    .dataframe tbody tr th:only-of-type {\n",
       "        vertical-align: middle;\n",
       "    }\n",
       "\n",
       "    .dataframe tbody tr th {\n",
       "        vertical-align: top;\n",
       "    }\n",
       "\n",
       "    .dataframe thead th {\n",
       "        text-align: right;\n",
       "    }\n",
       "</style>\n",
       "<table border=\"1\" class=\"dataframe\">\n",
       "  <thead>\n",
       "    <tr style=\"text-align: right;\">\n",
       "      <th></th>\n",
       "      <th>sentence</th>\n",
       "      <th>label</th>\n",
       "    </tr>\n",
       "  </thead>\n",
       "  <tbody>\n",
       "    <tr>\n",
       "      <th>0</th>\n",
       "      <td>便宜的看姓就知道是滯台支那人呵呵</td>\n",
       "      <td>Non-offensive</td>\n",
       "    </tr>\n",
       "    <tr>\n",
       "      <th>1</th>\n",
       "      <td>選前就應該抓去關了已經很明顯老柯輸不起</td>\n",
       "      <td>Non-offensive</td>\n",
       "    </tr>\n",
       "    <tr>\n",
       "      <th>2</th>\n",
       "      <td>我不敢中國覺青</td>\n",
       "      <td>Non-offensive</td>\n",
       "    </tr>\n",
       "    <tr>\n",
       "      <th>3</th>\n",
       "      <td>33人間幹又要借不到車了蔣萬安除了帥跟開支票還會改前4小時免費我就投你。反正萬安不會去騎好看...</td>\n",
       "      <td>Non-offensive</td>\n",
       "    </tr>\n",
       "    <tr>\n",
       "      <th>4</th>\n",
       "      <td>分佔一二中興橋不智障，但最狹窄最改善前的重陽橋福和橋，真的是低能兒設計重陽橋真的白痴關渡橋也...</td>\n",
       "      <td>Non-offensive</td>\n",
       "    </tr>\n",
       "    <tr>\n",
       "      <th>...</th>\n",
       "      <td>...</td>\n",
       "      <td>...</td>\n",
       "    </tr>\n",
       "    <tr>\n",
       "      <th>4995</th>\n",
       "      <td>還在煩好了沒柯已回歸專業嗎？解釋了什麼？屁話真的多真的謙卑謙卑再謙卑民進黨果然就是綠色共產黨...</td>\n",
       "      <td>Non-offensive</td>\n",
       "    </tr>\n",
       "    <tr>\n",
       "      <th>4996</th>\n",
       "      <td>噁心幹你娘2024徐國勇先滾好嗎什麼重大政策？中介法？輸敗選者太多角逐院長</td>\n",
       "      <td>Non-offensive</td>\n",
       "    </tr>\n",
       "    <tr>\n",
       "      <th>4997</th>\n",
       "      <td>有什麼好不適</td>\n",
       "      <td>Non-offensive</td>\n",
       "    </tr>\n",
       "    <tr>\n",
       "      <th>4998</th>\n",
       "      <td>不意外我還以為是林聰明，還好樓這就博眼球的小丑，生意不哭啊</td>\n",
       "      <td>Non-offensive</td>\n",
       "    </tr>\n",
       "    <tr>\n",
       "      <th>4999</th>\n",
       "      <td>不然辦美食展看綠共這麼智障我就放心了境外勢力被打敗囉神隱老女，ee太監還要被公幹笑死，神隱讀...</td>\n",
       "      <td>Non-offensive</td>\n",
       "    </tr>\n",
       "  </tbody>\n",
       "</table>\n",
       "<p>5000 rows × 2 columns</p>\n",
       "</div>"
      ],
      "text/plain": [
       "                                               sentence          label\n",
       "0                                      便宜的看姓就知道是滯台支那人呵呵  Non-offensive\n",
       "1                                   選前就應該抓去關了已經很明顯老柯輸不起  Non-offensive\n",
       "2                                               我不敢中國覺青  Non-offensive\n",
       "3     33人間幹又要借不到車了蔣萬安除了帥跟開支票還會改前4小時免費我就投你。反正萬安不會去騎好看...  Non-offensive\n",
       "4     分佔一二中興橋不智障，但最狹窄最改善前的重陽橋福和橋，真的是低能兒設計重陽橋真的白痴關渡橋也...  Non-offensive\n",
       "...                                                 ...            ...\n",
       "4995  還在煩好了沒柯已回歸專業嗎？解釋了什麼？屁話真的多真的謙卑謙卑再謙卑民進黨果然就是綠色共產黨...  Non-offensive\n",
       "4996              噁心幹你娘2024徐國勇先滾好嗎什麼重大政策？中介法？輸敗選者太多角逐院長  Non-offensive\n",
       "4997                                             有什麼好不適  Non-offensive\n",
       "4998                      不意外我還以為是林聰明，還好樓這就博眼球的小丑，生意不哭啊  Non-offensive\n",
       "4999  不然辦美食展看綠共這麼智障我就放心了境外勢力被打敗囉神隱老女，ee太監還要被公幹笑死，神隱讀...  Non-offensive\n",
       "\n",
       "[5000 rows x 2 columns]"
      ]
     },
     "execution_count": 17,
     "metadata": {},
     "output_type": "execute_result"
    }
   ],
   "source": [
    "df = pd.read_csv(data_root)\n",
    "df = df[['sentence', 'label']]\n",
    "df"
   ]
  },
  {
   "cell_type": "markdown",
   "id": "823bda50",
   "metadata": {},
   "source": [
    "## 向下取樣，取部分已標注資料"
   ]
  },
  {
   "cell_type": "code",
   "execution_count": 18,
   "id": "4a5abb7a",
   "metadata": {},
   "outputs": [],
   "source": [
    "g = df.groupby('label')"
   ]
  },
  {
   "cell_type": "code",
   "execution_count": 19,
   "id": "712e5113",
   "metadata": {},
   "outputs": [],
   "source": [
    "new_df = g.apply(lambda x: x.sample(g.size().min()).reset_index(drop=True))"
   ]
  },
  {
   "cell_type": "code",
   "execution_count": 20,
   "id": "5724f54a",
   "metadata": {},
   "outputs": [
    {
     "data": {
      "text/html": [
       "<div>\n",
       "<style scoped>\n",
       "    .dataframe tbody tr th:only-of-type {\n",
       "        vertical-align: middle;\n",
       "    }\n",
       "\n",
       "    .dataframe tbody tr th {\n",
       "        vertical-align: top;\n",
       "    }\n",
       "\n",
       "    .dataframe thead th {\n",
       "        text-align: right;\n",
       "    }\n",
       "</style>\n",
       "<table border=\"1\" class=\"dataframe\">\n",
       "  <thead>\n",
       "    <tr style=\"text-align: right;\">\n",
       "      <th></th>\n",
       "      <th></th>\n",
       "      <th>sentence</th>\n",
       "      <th>label</th>\n",
       "    </tr>\n",
       "    <tr>\n",
       "      <th>label</th>\n",
       "      <th></th>\n",
       "      <th></th>\n",
       "      <th></th>\n",
       "    </tr>\n",
       "  </thead>\n",
       "  <tbody>\n",
       "    <tr>\n",
       "      <th rowspan=\"5\" valign=\"top\">Non-offensive</th>\n",
       "      <th>0</th>\n",
       "      <td>希望台灣會更好大推這篇！！推</td>\n",
       "      <td>Non-offensive</td>\n",
       "    </tr>\n",
       "    <tr>\n",
       "      <th>1</th>\n",
       "      <td>下面沒人要跟土城找安囉</td>\n",
       "      <td>Non-offensive</td>\n",
       "    </tr>\n",
       "    <tr>\n",
       "      <th>2</th>\n",
       "      <td>0每個小瑕疵看起來都很細微過高屏溪都殺人無罪了</td>\n",
       "      <td>Non-offensive</td>\n",
       "    </tr>\n",
       "    <tr>\n",
       "      <th>3</th>\n",
       "      <td>淪落到連打一個教嗚嗚嗚，好可憐，都是柯P霸凌慣犯阿苗怎麼不幫幫你的苗粉快去死吧！政治蟑螂直接...</td>\n",
       "      <td>Non-offensive</td>\n",
       "    </tr>\n",
       "    <tr>\n",
       "      <th>4</th>\n",
       "      <td>但是司法你以綠能你不能啦要就全國一起玩台南感覺更哇，把新竹選民當白癡耍是第一天認識民進黨？還沒就職</td>\n",
       "      <td>Non-offensive</td>\n",
       "    </tr>\n",
       "    <tr>\n",
       "      <th>...</th>\n",
       "      <th>...</th>\n",
       "      <td>...</td>\n",
       "      <td>...</td>\n",
       "    </tr>\n",
       "    <tr>\n",
       "      <th rowspan=\"5\" valign=\"top\">Offensive</th>\n",
       "      <th>456</th>\n",
       "      <td>在那叫什麼\"</td>\n",
       "      <td>Offensive</td>\n",
       "    </tr>\n",
       "    <tr>\n",
       "      <th>457</th>\n",
       "      <td>現在天天幹妳娘臭B選完希望母豬能辭職現在警界升遷被喬來喬去，1126台幣市民會給大家史上最傲...</td>\n",
       "      <td>Offensive</td>\n",
       "    </tr>\n",
       "    <tr>\n",
       "      <th>458</th>\n",
       "      <td>綠共什麼鍋配什麼蓋</td>\n",
       "      <td>Offensive</td>\n",
       "    </tr>\n",
       "    <tr>\n",
       "      <th>459</th>\n",
       "      <td>去你的高端法說會支持讀稿機</td>\n",
       "      <td>Offensive</td>\n",
       "    </tr>\n",
       "    <tr>\n",
       "      <th>460</th>\n",
       "      <td>笑死</td>\n",
       "      <td>Offensive</td>\n",
       "    </tr>\n",
       "  </tbody>\n",
       "</table>\n",
       "<p>922 rows × 2 columns</p>\n",
       "</div>"
      ],
      "text/plain": [
       "                                                            sentence  \\\n",
       "label                                                                  \n",
       "Non-offensive 0                                       希望台灣會更好大推這篇！！推   \n",
       "              1                                          下面沒人要跟土城找安囉   \n",
       "              2                              0每個小瑕疵看起來都很細微過高屏溪都殺人無罪了   \n",
       "              3    淪落到連打一個教嗚嗚嗚，好可憐，都是柯P霸凌慣犯阿苗怎麼不幫幫你的苗粉快去死吧！政治蟑螂直接...   \n",
       "              4    但是司法你以綠能你不能啦要就全國一起玩台南感覺更哇，把新竹選民當白癡耍是第一天認識民進黨？還沒就職   \n",
       "...                                                              ...   \n",
       "Offensive     456                                             在那叫什麼\"   \n",
       "              457  現在天天幹妳娘臭B選完希望母豬能辭職現在警界升遷被喬來喬去，1126台幣市民會給大家史上最傲...   \n",
       "              458                                          綠共什麼鍋配什麼蓋   \n",
       "              459                                      去你的高端法說會支持讀稿機   \n",
       "              460                                                 笑死   \n",
       "\n",
       "                           label  \n",
       "label                             \n",
       "Non-offensive 0    Non-offensive  \n",
       "              1    Non-offensive  \n",
       "              2    Non-offensive  \n",
       "              3    Non-offensive  \n",
       "              4    Non-offensive  \n",
       "...                          ...  \n",
       "Offensive     456      Offensive  \n",
       "              457      Offensive  \n",
       "              458      Offensive  \n",
       "              459      Offensive  \n",
       "              460      Offensive  \n",
       "\n",
       "[922 rows x 2 columns]"
      ]
     },
     "execution_count": 20,
     "metadata": {},
     "output_type": "execute_result"
    }
   ],
   "source": [
    "new_df"
   ]
  },
  {
   "cell_type": "markdown",
   "id": "52c706c7",
   "metadata": {},
   "source": [
    "# 接下來對 new_data 進行人工修正標記"
   ]
  },
  {
   "cell_type": "code",
   "execution_count": 21,
   "id": "63a3b387",
   "metadata": {},
   "outputs": [],
   "source": [
    "new_df.to_csv('new_data.csv', encoding='utf_8_sig')"
   ]
  },
  {
   "cell_type": "code",
   "execution_count": 22,
   "id": "3cef2314",
   "metadata": {},
   "outputs": [],
   "source": [
    "Offensive_df = new_df[new_df['label'] == 'Offensive']"
   ]
  },
  {
   "cell_type": "code",
   "execution_count": 23,
   "id": "f002acc1",
   "metadata": {},
   "outputs": [],
   "source": [
    "Non_offensive_df = new_df[new_df['label'] == 'Non-offensive']"
   ]
  },
  {
   "cell_type": "code",
   "execution_count": 24,
   "id": "fa253b10",
   "metadata": {},
   "outputs": [],
   "source": [
    "Offensive_df.to_csv('new_data_offensive.csv', encoding='utf_8_sig')"
   ]
  },
  {
   "cell_type": "code",
   "execution_count": 25,
   "id": "65912cd4",
   "metadata": {},
   "outputs": [],
   "source": [
    "Non_offensive_df.to_csv('new_data_non_offensive.csv', encoding='utf_8_sig')"
   ]
  },
  {
   "cell_type": "code",
   "execution_count": null,
   "id": "f539faac",
   "metadata": {},
   "outputs": [],
   "source": []
  }
 ],
 "metadata": {
  "kernelspec": {
   "display_name": "Python 3 (ipykernel)",
   "language": "python",
   "name": "python3"
  },
  "language_info": {
   "codemirror_mode": {
    "name": "ipython",
    "version": 3
   },
   "file_extension": ".py",
   "mimetype": "text/x-python",
   "name": "python",
   "nbconvert_exporter": "python",
   "pygments_lexer": "ipython3",
   "version": "3.9.10"
  }
 },
 "nbformat": 4,
 "nbformat_minor": 5
}
