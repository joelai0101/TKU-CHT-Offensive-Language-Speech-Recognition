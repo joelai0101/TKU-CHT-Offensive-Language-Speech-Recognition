{
 "cells": [
  {
   "cell_type": "markdown",
   "id": "241ced60",
   "metadata": {},
   "source": [
    "## 文字前處理"
   ]
  },
  {
   "cell_type": "code",
   "execution_count": 23,
   "id": "5642a5c4",
   "metadata": {},
   "outputs": [],
   "source": [
    "import os\n",
    "before_dir_name = './before/'\n",
    "after_dir_name = './after/'\n",
    "\n",
    "before_file_names = os.listdir(before_dir_name)"
   ]
  },
  {
   "cell_type": "code",
   "execution_count": 24,
   "id": "ed61cf62",
   "metadata": {},
   "outputs": [],
   "source": [
    "import re\n",
    "\n",
    "for file_name in before_file_names:\n",
    "    before_file_path = os.path.join(before_dir_name, file_name)\n",
    "    after_file_path = os.path.join(after_dir_name, file_name)\n",
    "    new_lines = []\n",
    "    \n",
    "    # 打開文字檔\n",
    "    with open(before_file_path, 'r') as f:\n",
    "        lines = f.readlines()\n",
    "    \n",
    "    for line in lines:\n",
    "        # 類似網址文字去除\n",
    "        line = re.sub(r'http\\S+', '', line)\n",
    "        # 將純數字句子去除\n",
    "        line = re.sub(r'\\b\\d+\\b(?![\\u4e00-\\u9fa5])', '', line)\n",
    "        \n",
    "        # 跳過空行\n",
    "        if line.strip():\n",
    "            new_lines.append(line)\n",
    "    \n",
    "    with open(after_file_path, 'w') as f:\n",
    "        f.writelines(new_lines)\n",
    "        "
   ]
  },
  {
   "cell_type": "markdown",
   "id": "5383e4f8",
   "metadata": {},
   "source": [
    "## CKIP 分詞 (pckit, ckiptagger)"
   ]
  },
  {
   "cell_type": "code",
   "execution_count": null,
   "id": "1b883dd6",
   "metadata": {},
   "outputs": [],
   "source": [
    "from pckit import ckiptagger\n",
    "from ckiptagger import data_utils, construct_dictionary, WS, POS, NER"
   ]
  },
  {
   "cell_type": "code",
   "execution_count": null,
   "id": "b6118f66",
   "metadata": {},
   "outputs": [],
   "source": [
    "ws = WS(\"./data\")\n",
    "pos = POS(\"./data\")\n",
    "ner = NER(\"./data\")"
   ]
  },
  {
   "cell_type": "code",
   "execution_count": null,
   "id": "853f842e",
   "metadata": {},
   "outputs": [],
   "source": []
  },
  {
   "cell_type": "markdown",
   "id": "fb8df769",
   "metadata": {},
   "source": [
    "## 取得詞彙黑名單，建立冒犯程度詞典"
   ]
  },
  {
   "cell_type": "code",
   "execution_count": null,
   "id": "4a8a9e2b",
   "metadata": {},
   "outputs": [],
   "source": [
    "with open('blacklist.txt', 'r') as f:\n",
    "    blacklist = [line.strip() for line in f]\n",
    "    \n",
    "print(blacklist)"
   ]
  },
  {
   "cell_type": "code",
   "execution_count": null,
   "id": "2c91d5cc",
   "metadata": {},
   "outputs": [],
   "source": []
  },
  {
   "cell_type": "markdown",
   "id": "3de106ad",
   "metadata": {},
   "source": [
    "## 自動貼標籤"
   ]
  },
  {
   "cell_type": "code",
   "execution_count": null,
   "id": "7e23af18",
   "metadata": {},
   "outputs": [],
   "source": []
  },
  {
   "cell_type": "markdown",
   "id": "7a35e0cf",
   "metadata": {},
   "source": [
    "## TF-IDF 關鍵字加權"
   ]
  }
 ],
 "metadata": {
  "kernelspec": {
   "display_name": "Python 3 (ipykernel)",
   "language": "python",
   "name": "python3"
  },
  "language_info": {
   "codemirror_mode": {
    "name": "ipython",
    "version": 3
   },
   "file_extension": ".py",
   "mimetype": "text/x-python",
   "name": "python",
   "nbconvert_exporter": "python",
   "pygments_lexer": "ipython3",
   "version": "3.9.10"
  }
 },
 "nbformat": 4,
 "nbformat_minor": 5
}
